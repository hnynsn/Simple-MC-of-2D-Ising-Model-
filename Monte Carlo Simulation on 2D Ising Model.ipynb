{
 "cells": [
  {
   "cell_type": "markdown",
   "metadata": {},
   "source": [
    "This is a mixed document of notes, calculating results and source code, written with jupyter notebook in python 3.7.\\\n",
    "Let's come straight forward to give a grid construct of lattices each marks a spin"
   ]
  },
  {
   "cell_type": "code",
   "execution_count": null,
   "metadata": {},
   "outputs": [],
   "source": [
    "import numpy as np\n",
    "from numpy import random\n",
    "import matplotlib as plt\n",
    "import matplotlib.pyplot as pltt\n",
    "import pandas as pd"
   ]
  },
  {
   "cell_type": "markdown",
   "metadata": {},
   "source": [
    "Here are some parameters"
   ]
  },
  {
   "cell_type": "code",
   "execution_count": null,
   "metadata": {},
   "outputs": [],
   "source": [
    "J=1\n",
    "Tmin=0.1\n",
    "Tmax=5\n",
    "interations=13000\n",
    "mc=700\n",
    "scale=20\n",
    "#initializing a grid with spins all up/randomized\n",
    "#grid=np.ones([scale,scale], int)\n",
    "grid = np.random.randint(0, 2, [scale, scale]) * 2 - 1"
   ]
  },
  {
   "cell_type": "markdown",
   "metadata": {},
   "source": [
    "Now define some useful functions using periodic boundary conditions"
   ]
  },
  {
   "cell_type": "code",
   "execution_count": null,
   "metadata": {},
   "outputs": [],
   "source": [
    "#initializing a grid with spins all up/randomized\n",
    "#grid=np.ones([scale,scale], int)\n",
    "def set():\n",
    "    global grid\n",
    "    grid = np.random.randint(0, 2, [scale, scale]) * 2 - 1\n",
    "    return 1\n",
    "\n",
    "#finding side spins according to periodic boudary conditions\n",
    "def left(x, y):\n",
    "    global grid\n",
    "    spin=grid   \n",
    "    if x < 0.6:\n",
    "        return spin[scale-1,y]\n",
    "    else:\n",
    "        return spin[x-1, y]\n",
    "\n",
    "def right(x,y):\n",
    "    global grid\n",
    "    spin=grid\n",
    "    if x > scale-1.4 :\n",
    "        return spin[0,y]\n",
    "    else:\n",
    "        return spin[x+1,y]\n",
    "    \n",
    "def up(x,y):\n",
    "    global grid\n",
    "    spin=grid\n",
    "    if y > scale-1.4:\n",
    "        return spin[x,0]\n",
    "    else:\n",
    "        return spin[x,y+1]\n",
    "    \n",
    "def down(x,y):\n",
    "    spin=grid\n",
    "    if y < 0.4:\n",
    "        return spin[x,scale-1]\n",
    "    else:\n",
    "        return spin[x,y-1]    "
   ]
  },
  {
   "cell_type": "code",
   "execution_count": null,
   "metadata": {},
   "outputs": [],
   "source": [
    "#functions calculating physical properties\n",
    "#iteraction energy of a given spin\n",
    "def E_unit(x,y):\n",
    "    global grid\n",
    "    spin=grid\n",
    "    E_unit= -J * spin[x,y] * (left(x,y) + right(x,y) + up(x,y) + down(x,y))\n",
    "    return E_unit\n",
    "\n",
    "#energy change by flipping it\n",
    "def deltaE(x,y):\n",
    "    return -2 * E_unit(x,y)\n",
    "\n",
    "#total energy of the system\n",
    "def E_tot():\n",
    "    E = 0\n",
    "    for i in range(0,scale):\n",
    "        for j in range(0,scale):\n",
    "            E = E + E_unit(i,j)\n",
    "    E = 0.5 * E\n",
    "    return E\n",
    "\n",
    "#total magnetization of the system\n",
    "def M_tot():\n",
    "    M=0\n",
    "    for i in range(0,scale):\n",
    "        for j in range(0,scale):\n",
    "            M = M + grid[i,j]\n",
    "    return M    "
   ]
  },
  {
   "cell_type": "markdown",
   "metadata": {},
   "source": [
    "Introducing the Metropolis algothrim in the follow function"
   ]
  },
  {
   "cell_type": "code",
   "execution_count": null,
   "metadata": {},
   "outputs": [],
   "source": [
    "#a complete Metrpolis loop\n",
    "def metroloop():\n",
    "    for i in range(0,interations):\n",
    "        flip()\n",
    "    return 1\n",
    "\n",
    "#define a random flip\n",
    "def flip():\n",
    "    global E\n",
    "    global M\n",
    "    x = np.random.randint(0, scale)\n",
    "    y = np.random.randint(0, scale)\n",
    "    if deltaE(x,y) < 0 :\n",
    "        grid[x,y] = -grid[x,y]\n",
    "        E = E - deltaE(x,y)\n",
    "        M = M + 2 * grid[x,y]\n",
    "    else:\n",
    "        if np.random.rand() < np.exp(-deltaE(x,y) / T):\n",
    "            grid[x,y] = -grid[x,y]\n",
    "            E = E - deltaE(x,y)    \n",
    "            M = M + 2 * grid[x,y]\n",
    "    return 1"
   ]
  },
  {
   "cell_type": "markdown",
   "metadata": {},
   "source": [
    "Now let's try to run a loop to verify our code under low temperature"
   ]
  },
  {
   "cell_type": "code",
   "execution_count": null,
   "metadata": {},
   "outputs": [],
   "source": [
    "set()\n",
    "E=E_tot()\n",
    "M=M_tot()\n",
    "T=0.2\n",
    "metroloop()\n",
    "pltt.imshow(grid)\n",
    "pltt.show()"
   ]
  },
  {
   "cell_type": "markdown",
   "metadata": {},
   "source": [
    "The spins are quiet orderly alligned, which matches pretty well with the low temperature limit.\\\n",
    "With almost everything under preparation, we can now start to write the main program."
   ]
  },
  {
   "cell_type": "code",
   "execution_count": null,
   "metadata": {},
   "outputs": [],
   "source": [
    "#get enough samples to calculate average values of E&M\n",
    "def sampling():\n",
    "    for i in range(0,mc):\n",
    "        global Esum\n",
    "        global Msum\n",
    "        global Esqr\n",
    "        E = E_tot()\n",
    "        M = M_tot()\n",
    "        metroloop()\n",
    "        Esum = Esum + E\n",
    "        Esqr = Esqr + E ** 2\n",
    "        Msum = Msum + abs( M )\n",
    "    return 1"
   ]
  },
  {
   "cell_type": "code",
   "execution_count": null,
   "metadata": {},
   "outputs": [],
   "source": [
    "#main programe\n",
    "import csv\n",
    "for T in np.arange(Tmin,Tmax,0.1):\n",
    "    Esum = 0\n",
    "    Esqr = 0\n",
    "    Msum = 0\n",
    "    set()\n",
    "    sampling() #do Monte Carlo simulation\n",
    "    E_avr = Esum / (400 * mc)\n",
    "    Esqr_avr = Esqr / (400 * 400 * mc)\n",
    "    M_avr = Msum / (400 * mc)\n",
    "    #putting data into a csv\n",
    "    out = open('D:\\\\Eavr.csv','a',newline='')\n",
    "    csv_write = csv.writer(out)\n",
    "    csv_write.writerow(str(E_avr))\n",
    "    out = open('D:\\\\Esqr.csv','a',newline='')\n",
    "    csv_write = csv.writer(out)\n",
    "    csv_write.writerow(str(Esqr_avr))\n",
    "    out = open('D:\\\\Mavr.csv','a',newline='')\n",
    "    csv_write = csv.writer(out)\n",
    "    csv_write.writerow(str(M_avr))"
   ]
  },
  {
   "cell_type": "markdown",
   "metadata": {},
   "source": [
    "Start plotting the figures"
   ]
  },
  {
   "cell_type": "code",
   "execution_count": null,
   "metadata": {
    "scrolled": true
   },
   "outputs": [],
   "source": [
    "M_ = pd.read_csv('D:\\\\Mavr.csv')\n",
    "Mvalue = M_.values\n",
    "E_ = pd.read_csv('D:\\\\Eavr.csv')\n",
    "Evalue = E_.values\n",
    "Esqr_ = pd.read_csv('D:\\\\Esqr.csv')\n",
    "Esqrvalue = Esqr_.values\n",
    "C = np.random.random(size=(46,1))\n",
    "for i in range(0,46):\n",
    "    C[i,0] = (Evalue[i+1,0] - Evalue[i,0]) / 0.1\n",
    "t1=np.arange(0.1,4.71,0.1)\n",
    "pltt.plot(t1,Evalue,'yD-',lw=2,alpha=0.8)\n",
    "pltt.title('Energy per lattice')\n",
    "pltt.xlabel('Temperature')\n",
    "pltt.ylabel('Energy')\n",
    "pltt.show()"
   ]
  },
  {
   "cell_type": "code",
   "execution_count": null,
   "metadata": {},
   "outputs": [],
   "source": [
    "t2=np.arange(0.1,4.81,0.1)\n",
    "pltt.plot(t2,Mvalue,'gD-',lw=2,alpha=0.8)\n",
    "pltt.title('Magnetisation per lattice')\n",
    "pltt.xlabel('Temperature')\n",
    "pltt.ylabel('Magnetisation')\n",
    "pltt.show()"
   ]
  },
  {
   "cell_type": "code",
   "execution_count": null,
   "metadata": {},
   "outputs": [],
   "source": [
    "t3=np.arange(0.15,4.66,0.1)\n",
    "pltt.plot(t3,C,'mD-',lw=2,alpha=0.8)\n",
    "pltt.title('Specific Heat Capacity per lattice')\n",
    "pltt.xlabel('Temperature')\n",
    "pltt.ylabel('Heat Capacity')\n",
    "pltt.show()"
   ]
  },
  {
   "cell_type": "markdown",
   "metadata": {},
   "source": [
    "All of the figures above shows an ABRUPT change of physical properties near $T=2.2\\epsilon / k_B$, which marks the PHASE TRANSITION."
   ]
  }
 ],
 "metadata": {
  "kernelspec": {
   "display_name": "Python 3",
   "language": "python",
   "name": "python3"
  },
  "language_info": {
   "codemirror_mode": {
    "name": "ipython",
    "version": 3
   },
   "file_extension": ".py",
   "mimetype": "text/x-python",
   "name": "python",
   "nbconvert_exporter": "python",
   "pygments_lexer": "ipython3",
   "version": "3.7.6"
  }
 },
 "nbformat": 4,
 "nbformat_minor": 4
}
